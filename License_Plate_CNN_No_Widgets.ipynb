{
  "nbformat": 4,
  "nbformat_minor": 0,
  "metadata": {
    "colab": {
      "name": "License_Plate_CNN_Good.ipynb",
      "provenance": [],
      "collapsed_sections": [],
      "include_colab_link": true
    },
    "kernelspec": {
      "name": "python3",
      "display_name": "Python 3"
    },
    "language_info": {
      "name": "python"
    },
    "accelerator": "GPU"
  },
  "cells": [
    {
      "cell_type": "markdown",
      "metadata": {
        "id": "view-in-github",
        "colab_type": "text"
      },
      "source": [
        "<a href=\"https://colab.research.google.com/github/BrianS99/License_Plate_CNN/blob/main/License_Plate_CNN_Good.ipynb\" target=\"_parent\"><img src=\"https://colab.research.google.com/assets/colab-badge.svg\" alt=\"Open In Colab\"/></a>"
      ]
    },
    {
      "cell_type": "code",
      "execution_count": 1,
      "metadata": {
        "id": "i7UDdQsB_hgD"
      },
      "outputs": [],
      "source": [
        "import math\n",
        "import numpy as np\n",
        "import re\n",
        "import random\n",
        "\n",
        "from collections import Counter\n",
        "from matplotlib import pyplot as plt\n",
        "from PIL import Image\n",
        "import cv2\n",
        "from google.colab.patches import cv2_imshow"
      ]
    },
    {
      "cell_type": "code",
      "source": [
        "random.random()"
      ],
      "metadata": {
        "colab": {
          "base_uri": "https://localhost:8080/"
        },
        "id": "MU8mW_6jcYL1",
        "outputId": "1aee6c43-1481-4344-9ab8-639510218f52"
      },
      "execution_count": 2,
      "outputs": [
        {
          "output_type": "execute_result",
          "data": {
            "text/plain": [
              "0.5754801431140075"
            ]
          },
          "metadata": {},
          "execution_count": 2
        }
      ]
    },
    {
      "cell_type": "code",
      "source": [
        "from google.colab import drive\n",
        "drive.mount('/content/drive')"
      ],
      "metadata": {
        "colab": {
          "base_uri": "https://localhost:8080/"
        },
        "id": "aMVepSuq_meD",
        "outputId": "8fee32a6-e2c0-47f6-b6f8-cb39de5f8ec4"
      },
      "execution_count": 3,
      "outputs": [
        {
          "output_type": "stream",
          "name": "stdout",
          "text": [
            "Mounted at /content/drive\n"
          ]
        }
      ]
    },
    {
      "cell_type": "code",
      "source": [
        "# Put folder of manually labelled data below\n",
        "MANUAL_LABEL_PATH = \"/content/drive/MyDrive/ENPH 353/manual_label_pictures/\"\n",
        "manual_labels_raw = !ls \"{MANUAL_LABEL_PATH}\"\n",
        "!ls \"{MANUAL_LABEL_PATH}\"\n",
        "labels = manual_labels_raw[0].split()"
      ],
      "metadata": {
        "colab": {
          "base_uri": "https://localhost:8080/"
        },
        "id": "xN-LAz2k9MMA",
        "outputId": "41900523-65dc-4de5-c24f-b1c4b0969217"
      },
      "execution_count": 4,
      "outputs": [
        {
          "output_type": "stream",
          "name": "stdout",
          "text": [
            "0_012.jpg   4_2.jpg\t 835.jpg      B_60.jpg\t  I_190.jpg   Q_6.jpg\n",
            "0_10.jpg    42.jpg\t 8_37.jpg     B_6.jpg\t  I_22.jpg    Q_8.jpg\n",
            "0_122.jpg   4_33.jpg\t 83.jpg       B6.jpg\t  I_23.jpg    Q_9.jpg\n",
            "0_123.jpg   43.jpg\t 84.jpg       B7.jpg\t  I_24.jpg    Q.jpg\n",
            "0_133.jpg   47.jpg\t 85.jpg       B_8.jpg\t  I_2.jpg     R_10.jpg\n",
            "0_144.jpg   49.jpg\t 87.jpg       B8.jpg\t  I_31.jpg    R_11.jpg\n",
            "0_14.jpg    5_012.jpg\t 88.jpg       B_new1.jpg  I_33.jpg    R_15.jpg\n",
            "0_155.jpg   5_0193.jpg\t 89.jpg       B_new2.jpg  J_15.jpg    R_1.jpg\n",
            "0_17.jpg    5_120.jpg\t 8BLBLB.jpg   B_new3.jpg  J_165.jpg   R_21.jpg\n",
            "0_18.jpg    5_1222.jpg\t 8DSLS.jpg    B_new5.jpg  J_1.jpg     R_24.jpg\n",
            "0_1.jpg     5_12.jpg\t 8FLFL.jpg    C_0.jpg\t  J_22.jpg    R_31.jpg\n",
            "01.jpg\t    5_13.jpg\t 8FPFPL.jpg   C_13.jpg\t  J_25.jpg    S_124.jpg\n",
            "0_24.jpg    5_145.jpg\t 8GKG.jpg     C_1.jpg\t  J_2.jpg     S_12.jpg\n",
            "02.jpg\t    5_155.jpg\t 8HPHP.jpg    C_5.jpg\t  J_3.jpg     S_141.jpg\n",
            "0_31.jpg    5_15.jpg\t 8LSLS.jpg    C_6.jpg\t  J_4.jpg     S_1.jpg\n",
            "04.jpg\t    5_16223.jpg  8M.jpg       C_9.jpg\t  J_51.jpg    S1.jpg\n",
            "05.jpg\t    5_180.jpg\t 8_new1.jpg   D_12.jpg\t  J_566.jpg   S_2.jpg\n",
            "06.jpg\t    5_1.jpg\t 8_new2.jpg   D_13.jpg\t  J_5.jpg     S_32.jpg\n",
            "07.jpg\t    5_21.jpg\t 8_new3.jpg   D_14.jpg\t  J_76.jpg    S_3.jpg\n",
            "1_11.jpg    5_22.jpg\t 8_new4.jpg   D_22.jpg\t  K_12.jpg    S_4.jpg\n",
            "1_1234.jpg  5_23.jpg\t 8_new51.jpg  D_25.jpg\t  K_130.jpg   S_51.jpg\n",
            "1_15.jpg    5_31.jpg\t 8PPO.jpg     D_26.jpg\t  K_145.jpg   S_6.jpg\n",
            "1_16.jpg    5_766.jpg\t 8WPWPO.jpg   D_31.jpg\t  K_2.jpg     S_76.jpg\n",
            "1_1.jpg     6_11.jpg\t 9_014.jpg    D_55.jpg\t  K_3.jpg     S_7.jpg\n",
            "11.jpg\t    6_12.jpg\t 9_10.jpg     D_66.jpg\t  K_4.jpg     S_9.jpg\n",
            "1_21.jpg    6_13.jpg\t 9_12.jpg     E_10.jpg\t  K_5.jpg     T_142.jpg\n",
            "1_23.jpg    6_14.jpg\t 9_13.jpg     E_11.jpg\t  K_60.jpg    T_153.jpg\n",
            "1_2.jpg     6_17.jpg\t 9_140.jpg    E_120.jpg   K_6.jpg     T_167.jpg\n",
            "12.jpg\t    6_1.jpg\t 9_145.jpg    E_125.jpg   K_7.jpg     T_1.jpg\n",
            "1_31.jpg    61.jpg\t 9_14.jpg     E_129.jpg   L_14.jpg    T_23.jpg\n",
            "1_32.jpg    6_25.jpg\t 9_15.jpg     E_140.jpg   L_1.jpg     T_2.jpg\n",
            "1_4.jpg     6_2.jpg\t 9_17.jpg     E_1562.jpg  L_55.jpg    T_3.jpg\n",
            "14.jpg\t    62.jpg\t 9_18.jpg     E_15.jpg\t  L_7.jpg     T_4.jpg\n",
            "1_55.jpg    6_33.jpg\t 9_22.jpg     E_160.jpg   L_8.jpg     U_014.jpg\n",
            "15.jpg\t    63.jpg\t 9_47.jpg     E_16.jpg\t  L_9.jpg     U_10.jpg\n",
            "19.jpg\t    6_44.jpg\t A_132.jpg    E_19.jpg\t  M_10.jpg    U_15.jpg\n",
            "2_014.jpg   64.jpg\t A_13.jpg     E_20.jpg\t  M_120.jpg   U_188.jpg\n",
            "2_10.jpg    7_109.jpg\t A_14.jpg     E_22.jpg\t  M_129.jpg   U_21.jpg\n",
            "2_11.jpg    7_10.jpg\t A_152.jpg    E_33.jpg\t  M_12.jpg    U_22.jpg\n",
            "2_120.jpg   7_12.jpg\t A_1.jpg      E_34.jpg\t  M_145.jpg   U_23.jpg\n",
            "2_12.jpg    7_13.jpg\t A_2.jpg      E_35.jpg\t  M_1567.jpg  U_31.jpg\n",
            "2_145.jpg   7_150.jpg\t A_44.jpg     E_36.jpg\t  M_15.jpg    V_1.jpg\n",
            "2_14.jpg    7_160.jpg\t A_52.jpg     E_66.jpg\t  M_1.jpg     V_2.jpg\n",
            "2_155.jpg   7_166.jpg\t A_55.jpg     F_1.jpg\t  M_214.jpg   V_3.jpg\n",
            "2_160.jpg   7_1.jpg\t A_88.jpg     F_241.jpg   M_23.jpg    V_4.jpg\n",
            "2_1.jpg     71.jpg\t A.jpg\t      F_2.jpg\t  M_41.jpg    V_512112.jpg\n",
            "2_21.jpg    7_21.jpg\t B10.jpg      F_3.jpg\t  M_56.jpg    V_5.jpg\n",
            "2_26.jpg    7_23.jpg\t B12.jpg      F_4.jpg\t  M_77.jpg    V_6.jpg\n",
            "2_31.jpg    7_24.jpg\t B_145.jpg    F_5.jpg\t  N_130.jpg   W_11.jpg\n",
            "2_3.jpg     7_25.jpg\t B_14.jpg     F_6.jpg\t  N_1.jpg     W_12.jpg\n",
            "2_41.jpg    72.jpg\t B_150.jpg    F_7.jpg\t  N_2.jpg     W_14.jpg\n",
            "2_51.jpg    7_31.jpg\t B16.jpg      F_8.jpg\t  N_3.jpg     W_1.jpg\n",
            "2_61.jpg    7_55.jpg\t B17.jpg      G_124.jpg   N_4.jpg     W_25.jpg\n",
            "2_91.jpg    77.jpg\t B18.jpg      G_134.jpg   N_5.jpg     W_31.jpg\n",
            "3_10.jpg    78.jpg\t B19.jpg      G_14.jpg\t  N_6.jpg     X_12.jpg\n",
            "3_11.jpg    80.jpg\t B_1.jpg      G_16.jpg\t  N_7.jpg     X_14.jpg\n",
            "3_120.jpg   8_103.jpg\t B1.jpg       G_179.jpg   N_8.jpg     X_15.jpg\n",
            "3_124.jpg   810.jpg\t B20.jpg      G_1.jpg\t  N_99.jpg    X_1.jpg\n",
            "3_12.jpg    8_11.jpg\t B21.jpg      G1.jpg\t  O_092.jpg   X_23.jpg\n",
            "3_1456.jpg  811.jpg\t B22.jpg      G_2.jpg\t  O_122.jpg   X_2.jpg\n",
            "3_15.jpg    812.jpg\t B23.jpg      G_41.jpg\t  O_123.jpg   X_3.jpg\n",
            "3_170.jpg   813.jpg\t B_245.jpg    G_43.jpg\t  O_127.jpg   X_4.jpg\n",
            "3_1721.jpg  814.jpg\t B24.jpg      G_44.jpg\t  O_1.jpg     X_5.jpg\n",
            "3_188.jpg   815.jpg\t B25.jpg      G_55.jpg\t  O1.jpg      Y_0.jpg\n",
            "3_1.jpg     817.jpg\t B26.jpg      G_66.jpg\t  O_230.jpg   Y_12.jpg\n",
            "31.jpg\t    818.jpg\t B27.jpg      H_102.jpg   O_2.jpg     Y_13.jpg\n",
            "3_21.jpg    8_192.jpg\t B28.jpg      H_10.jpg\t  O2.jpg      Y_17.jpg\n",
            "3_23.jpg    819.jpg\t B29.jpg      H_124.jpg   O_3.jpg     Y_1.jpg\n",
            "3_31.jpg    81.jpg\t B_2.jpg      H_12.jpg\t  O_4.jpg     Y_4.jpg\n",
            "3_32.jpg    820.jpg\t B2.jpg       H_15.jpg\t  O_5.jpg     Y_5.jpg\n",
            "34.jpg\t    822.jpg\t B30.jpg      H_21.jpg\t  O_6.jpg     Y_7.jpg\n",
            "35.jpg\t    823.jpg\t B31.jpg      H_23.jpg\t  O_7.jpg     Y_8.jpg\n",
            "3_78.jpg    824.jpg\t B32.jpg      H_24.jpg\t  O_8.jpg     Y_9.jpg\n",
            "37.jpg\t    8_25.jpg\t B_33.jpg     H_26.jpg\t  O_9.jpg     Z_11.jpg\n",
            "4_11.jpg    825.jpg\t B33.jpg      H_31.jpg\t  P_11.jpg    Z_14.jpg\n",
            "4_1236.jpg  826.jpg\t B34.jpg      H_32.jpg\t  P_14.jpg    Z_1.jpg\n",
            "4_123.jpg   8_293.jpg\t B35.jpg      H_33.jpg\t  P_15.jpg    Z_21.jpg\n",
            "4_156.jpg   830.jpg\t B36.jpg      H_35.jpg\t  P_1.jpg     Z_2.jpg\n",
            "4_15.jpg    8_31.jpg\t B39.jpg      I_014.jpg   P_2.jpg     Z_4.jpg\n",
            "4_1664.jpg  831.jpg\t B3.jpg       I_10.jpg\t  P_66.jpg    Z_54.jpg\n",
            "4_16.jpg    832.jpg\t B40.jpg      I11.jpg\t  Q_1234.jpg  Z_66.jpg\n",
            "4_19.jpg    8_33.jpg\t B41.jpg      I_120.jpg   Q_1.jpg     Z_67.jpg\n",
            "4_1.jpg     833.jpg\t B42.jpg      I_12.jpg\t  Q_2.jpg     Z_90.jpg\n",
            "41.jpg\t    8_34.jpg\t B4.jpg       I_140.jpg   Q_3.jpg     Z_91.jpg\n",
            "4_22.jpg    834.jpg\t B_52.jpg     I_144.jpg   Q_4.jpg\n",
            "4_24.jpg    8_35.jpg\t B5.jpg       I_15.jpg\t  Q_5.jpg\n"
          ]
        }
      ]
    },
    {
      "cell_type": "code",
      "source": [
        "files_A1 = !ls \"{MANUAL_LABEL_PATH}\"\n",
        "  # The files when listed from Google Drive have a particular format. They are\n",
        "  # grouped in sets of 4 and have spaces and tabs as delimiters.\n",
        "  \n",
        "  # Split the string listing sets of 4 files by tab and space and remove any \n",
        "  # empty splits.\n",
        "files_B1 = [list(filter(None, re.split('\\t|\\s', files))) for files in files_A1]\n",
        "  \n",
        "  # Concatenate all splits into a single sorted list\n",
        "files1 = []\n",
        "for element in files_B1:\n",
        "  files1 = files1 + element\n",
        "files1.sort()\n",
        "\n",
        "# files\n",
        "print(len(files1))"
      ],
      "metadata": {
        "colab": {
          "base_uri": "https://localhost:8080/"
        },
        "id": "-Qcrghq8-NnK",
        "outputId": "ceac4d7f-896f-4a3f-eb97-e3d97ae1b63b"
      },
      "execution_count": 5,
      "outputs": [
        {
          "output_type": "stream",
          "name": "stdout",
          "text": [
            "514\n"
          ]
        }
      ]
    },
    {
      "cell_type": "markdown",
      "source": [
        "A function that encodes alphabet and numbers to 0-35"
      ],
      "metadata": {
        "id": "MFJF6WYHsPfV"
      }
    },
    {
      "cell_type": "code",
      "source": [
        "def char_to_num(char):\n",
        "  # print(ord(char))\n",
        "  if ord(char) >= 65 and ord(char) <= 90:\n",
        "    return ord(char) - 65\n",
        "  else:\n",
        "    return ord(char) - 48 + 26"
      ],
      "metadata": {
        "id": "9Sv9fXGRskUF"
      },
      "execution_count": 6,
      "outputs": []
    },
    {
      "cell_type": "code",
      "source": [
        "def ROS_manual_image_cropper(pathName, fileName):\n",
        "  input_img = cv2.imread(pathName + \"/\" + fileName)\n",
        "  gray_img = cv2.cvtColor(input_img, cv2.COLOR_BGR2GRAY)\n",
        "  return ([gray_img, char_to_num(fileName[0])],)"
      ],
      "metadata": {
        "id": "K2a_hGdS-8JG"
      },
      "execution_count": 9,
      "outputs": []
    },
    {
      "cell_type": "markdown",
      "source": [
        "#Adding our own data generated from simulation"
      ],
      "metadata": {
        "id": "IrmhCWnYygKk"
      }
    },
    {
      "cell_type": "code",
      "source": [
        "def create_manual_imgset(pathName, fileList):\n",
        "  images = []\n",
        "  for i in range(len(fileList)):\n",
        "    imgs = ROS_manual_image_cropper(pathName, fileList[i])\n",
        "    images += imgs\n",
        "  return images\n",
        "\n",
        "manual_imgset = create_manual_imgset(MANUAL_LABEL_PATH, files1)\n",
        "imgset = manual_imgset"
      ],
      "metadata": {
        "id": "uRokVkjryiCs"
      },
      "execution_count": 10,
      "outputs": []
    },
    {
      "cell_type": "markdown",
      "source": [
        "Displays a sample from the imported data set"
      ],
      "metadata": {
        "id": "ldfm_wD4sC3d"
      }
    },
    {
      "cell_type": "code",
      "source": [
        "plt.imshow(imgset[0][0])"
      ],
      "metadata": {
        "colab": {
          "base_uri": "https://localhost:8080/",
          "height": 283
        },
        "id": "lFn9aQBtqdSv",
        "outputId": "3a386e91-f9fc-4a31-e47e-033b1d9e82c3"
      },
      "execution_count": 11,
      "outputs": [
        {
          "output_type": "execute_result",
          "data": {
            "text/plain": [
              "<matplotlib.image.AxesImage at 0x7f0b8562e150>"
            ]
          },
          "metadata": {},
          "execution_count": 11
        },
        {
          "output_type": "display_data",
          "data": {
            "text/plain": [
              "<Figure size 432x288 with 1 Axes>"
            ],
            "image/png": "[encoded data removed]"
          },
          "metadata": {
            "needs_background": "light"
          }
        }
      ]
    },
    {
      "cell_type": "code",
      "source": [
        "# Shuffle data set\n",
        "np.random.shuffle(imgset)\n",
        "\n",
        "print(imgset[2])"
      ],
      "metadata": {
        "id": "Nl8ThSIbkIoj",
        "colab": {
          "base_uri": "https://localhost:8080/"
        },
        "outputId": "34928806-c15a-437b-e074-270d638cfe0f"
      },
      "execution_count": 12,
      "outputs": [
        {
          "output_type": "stream",
          "name": "stdout",
          "text": [
            "[array([[0, 0, 2, ..., 2, 0, 0],\n",
            "       [0, 0, 0, ..., 0, 0, 0],\n",
            "       [0, 0, 0, ..., 0, 0, 0],\n",
            "       ...,\n",
            "       [0, 0, 0, ..., 0, 0, 0],\n",
            "       [3, 1, 1, ..., 1, 1, 3],\n",
            "       [0, 0, 0, ..., 0, 0, 0]], dtype=uint8), 26]\n"
          ]
        }
      ]
    },
    {
      "cell_type": "code",
      "source": [
        "# Genereate X and Y datasets\n",
        "X_dataset_orig = np.array([data[0] for data in imgset[:]])\n",
        "Y_dataset_orig = np.array([[data[1]] for data in imgset]).T\n"
      ],
      "metadata": {
        "id": "c696rmHZkM-2"
      },
      "execution_count": 13,
      "outputs": []
    },
    {
      "cell_type": "markdown",
      "source": [
        "## Do One-Hot Encoding"
      ],
      "metadata": {
        "id": "clSRCD1QjLln"
      }
    },
    {
      "cell_type": "code",
      "source": [
        "NUMBER_OF_LABELS = 36\n",
        "CONFIDENCE_THRESHOLD = 0.01\n",
        "\n",
        "def convert_to_one_hot(Y, C):\n",
        "    Y = np.eye(C)[Y.reshape(-1)].T\n",
        "    return Y\n",
        "  \n",
        "# Normalize X (images) dataset\n",
        "X_dataset_norm = X_dataset_orig/255.0\n",
        "# X_dataset = np.squeeze(X_dataset_norm)\n",
        "X_dataset = np.expand_dims(X_dataset_norm, axis=-1)\n",
        "\n",
        "# Convert Y dataset to one-hot encoding\n",
        "Y_dataset = convert_to_one_hot(Y_dataset_orig, NUMBER_OF_LABELS).T"
      ],
      "metadata": {
        "id": "3bd5FpB3oTBF"
      },
      "execution_count": 14,
      "outputs": []
    },
    {
      "cell_type": "code",
      "source": [
        "X_dataset.shape"
      ],
      "metadata": {
        "colab": {
          "base_uri": "https://localhost:8080/"
        },
        "id": "ilt78zcTHr2N",
        "outputId": "f75bfb03-3dc7-454a-b629-0dad92a6506e"
      },
      "execution_count": 15,
      "outputs": [
        {
          "output_type": "execute_result",
          "data": {
            "text/plain": [
              "(514, 32, 32, 1)"
            ]
          },
          "metadata": {},
          "execution_count": 15
        }
      ]
    },
    {
      "cell_type": "code",
      "source": [
        "VALIDATION_SPLIT = 0.2\n",
        "\n",
        "print(\"Total examples: {:d}\\nTraining examples: {:d}\\nTest examples: {:d}\".\n",
        "      format(X_dataset.shape[0],\n",
        "             math.ceil(X_dataset.shape[0] * (1-VALIDATION_SPLIT)),\n",
        "             math.floor(X_dataset.shape[0] * VALIDATION_SPLIT)))\n",
        "print(\"X shape: \" + str(X_dataset.shape))\n",
        "print(\"Y shape: \" + str(Y_dataset.shape))"
      ],
      "metadata": {
        "id": "2wirS8u09eUM",
        "colab": {
          "base_uri": "https://localhost:8080/"
        },
        "outputId": "0af46575-c15f-4062-c5a0-49980de620bc"
      },
      "execution_count": 16,
      "outputs": [
        {
          "output_type": "stream",
          "name": "stdout",
          "text": [
            "Total examples: 514\n",
            "Training examples: 412\n",
            "Test examples: 102\n",
            "X shape: (514, 32, 32, 1)\n",
            "Y shape: (514, 36)\n"
          ]
        }
      ]
    },
    {
      "cell_type": "markdown",
      "source": [
        "## Train Neural Network"
      ],
      "metadata": {
        "id": "M6zlLLo-i_nH"
      }
    },
    {
      "cell_type": "code",
      "source": [
        "%tensorflow_version 1.14.0"
      ],
      "metadata": {
        "id": "PcNrrft7Nnqp",
        "colab": {
          "base_uri": "https://localhost:8080/"
        },
        "outputId": "540a43fd-91c6-4bba-cece-a8403b78c0ad"
      },
      "execution_count": 17,
      "outputs": [
        {
          "output_type": "stream",
          "name": "stdout",
          "text": [
            "`%tensorflow_version` only switches the major version: 1.x or 2.x.\n",
            "You set: `1.14.0`. This will be interpreted as: `1.x`.\n",
            "\n",
            "\n",
            "TensorFlow 1.x selected.\n"
          ]
        }
      ]
    },
    {
      "cell_type": "code",
      "source": [
        "from tensorflow.keras import layers\n",
        "from tensorflow.keras import models\n",
        "from tensorflow.keras import optimizers\n",
        "\n",
        "from tensorflow.keras.utils import plot_model\n",
        "from tensorflow.keras import backend\n",
        "from tensorflow.keras import losses\n",
        "import tensorflow as tf"
      ],
      "metadata": {
        "id": "WbrcgRaePr6d"
      },
      "execution_count": 18,
      "outputs": []
    },
    {
      "cell_type": "code",
      "source": [
        "def reset_weights(model):\n",
        "    session = backend.get_session()\n",
        "    for layer in model.layers: \n",
        "        if hasattr(layer, 'kernel_initializer'):\n",
        "            layer.kernel.initializer.run(session=session)"
      ],
      "metadata": {
        "id": "ZDRiytqAPt1C"
      },
      "execution_count": 19,
      "outputs": []
    },
    {
      "cell_type": "code",
      "source": [
        "conv_model = models.Sequential()\n",
        "conv_model.add(layers.Conv2D(32, (3, 3), activation='relu',\n",
        "                             input_shape=(32, 32, 1)))\n",
        "conv_model.add(layers.MaxPooling2D((2, 2)))\n",
        "conv_model.add(layers.Conv2D(64, (3, 3), activation='relu'))\n",
        "conv_model.add(layers.MaxPooling2D((2, 2)))\n",
        "conv_model.add(layers.Flatten())\n",
        "conv_model.add(layers.Dropout(0.5))\n",
        "conv_model.add(layers.Dense(512, activation='relu'))\n",
        "conv_model.add(layers.Dense(36, activation='softmax'))"
      ],
      "metadata": {
        "id": "ox8D22LmBZbK",
        "colab": {
          "base_uri": "https://localhost:8080/"
        },
        "outputId": "38c6f304-de19-4f98-e02d-0a6d6cef0dc7"
      },
      "execution_count": 20,
      "outputs": [
        {
          "output_type": "stream",
          "name": "stdout",
          "text": [
            "WARNING:tensorflow:From /tensorflow-1.15.2/python3.7/tensorflow_core/python/ops/resource_variable_ops.py:1630: calling BaseResourceVariable.__init__ (from tensorflow.python.ops.resource_variable_ops) with constraint is deprecated and will be removed in a future version.\n",
            "Instructions for updating:\n",
            "If using Keras pass *_constraint arguments to layers.\n"
          ]
        }
      ]
    },
    {
      "cell_type": "code",
      "source": [
        "conv_model.summary()"
      ],
      "metadata": {
        "id": "nVzCTjWsQCXb",
        "colab": {
          "base_uri": "https://localhost:8080/"
        },
        "outputId": "82fdf44b-0af2-4b88-d178-8f2fc5b29831"
      },
      "execution_count": 21,
      "outputs": [
        {
          "output_type": "stream",
          "name": "stdout",
          "text": [
            "Model: \"sequential\"\n",
            "_________________________________________________________________\n",
            "Layer (type)                 Output Shape              Param #   \n",
            "=================================================================\n",
            "conv2d (Conv2D)              (None, 30, 30, 32)        320       \n",
            "_________________________________________________________________\n",
            "max_pooling2d (MaxPooling2D) (None, 15, 15, 32)        0         \n",
            "_________________________________________________________________\n",
            "conv2d_1 (Conv2D)            (None, 13, 13, 64)        18496     \n",
            "_________________________________________________________________\n",
            "max_pooling2d_1 (MaxPooling2 (None, 6, 6, 64)          0         \n",
            "_________________________________________________________________\n",
            "flatten (Flatten)            (None, 2304)              0         \n",
            "_________________________________________________________________\n",
            "dropout (Dropout)            (None, 2304)              0         \n",
            "_________________________________________________________________\n",
            "dense (Dense)                (None, 512)               1180160   \n",
            "_________________________________________________________________\n",
            "dense_1 (Dense)              (None, 36)                18468     \n",
            "=================================================================\n",
            "Total params: 1,217,444\n",
            "Trainable params: 1,217,444\n",
            "Non-trainable params: 0\n",
            "_________________________________________________________________\n"
          ]
        }
      ]
    },
    {
      "cell_type": "code",
      "source": [
        "LEARNING_RATE = 1e-4\n",
        "conv_model.compile(loss='categorical_crossentropy',\n",
        "                   optimizer=optimizers.RMSprop(lr=LEARNING_RATE),\n",
        "                   metrics=['acc'])"
      ],
      "metadata": {
        "id": "F2O9rW4QQLnK"
      },
      "execution_count": 22,
      "outputs": []
    },
    {
      "cell_type": "code",
      "source": [
        "reset_weights(conv_model)"
      ],
      "metadata": {
        "id": "rDBYHZ_dQNxi"
      },
      "execution_count": 23,
      "outputs": []
    },
    {
      "cell_type": "code",
      "source": [
        "history_conv = conv_model.fit(X_dataset, Y_dataset, \n",
        "                              validation_split=VALIDATION_SPLIT, \n",
        "                              epochs=80, \n",
        "                              batch_size=16)"
      ],
      "metadata": {
        "id": "zu9brnEIQQZ1",
        "colab": {
          "base_uri": "https://localhost:8080/"
        },
        "outputId": "d5d40aba-d31f-4074-ac09-a74a155a89c9"
      },
      "execution_count": 24,
      "outputs": [
        {
          "output_type": "stream",
          "name": "stdout",
          "text": [
            "Train on 411 samples, validate on 103 samples\n",
            "Epoch 1/80\n",
            "411/411 [==============================] - 4s 9ms/sample - loss: 3.4203 - acc: 0.0973 - val_loss: 3.2802 - val_acc: 0.1650\n",
            "Epoch 2/80\n",
            "411/411 [==============================] - 0s 517us/sample - loss: 3.1303 - acc: 0.1217 - val_loss: 3.0532 - val_acc: 0.0971\n",
            "Epoch 3/80\n",
            "411/411 [==============================] - 0s 498us/sample - loss: 2.8801 - acc: 0.1946 - val_loss: 2.7375 - val_acc: 0.2233\n",
            "Epoch 4/80\n",
            "411/411 [==============================] - 0s 491us/sample - loss: 2.5564 - acc: 0.2847 - val_loss: 2.3311 - val_acc: 0.3398\n",
            "Epoch 5/80\n",
            "411/411 [==============================] - 0s 501us/sample - loss: 2.1452 - acc: 0.4477 - val_loss: 1.8410 - val_acc: 0.5631\n",
            "Epoch 6/80\n",
            "411/411 [==============================] - 0s 487us/sample - loss: 1.7212 - acc: 0.6010 - val_loss: 1.4455 - val_acc: 0.6699\n",
            "Epoch 7/80\n",
            "411/411 [==============================] - 0s 500us/sample - loss: 1.3341 - acc: 0.6837 - val_loss: 1.0134 - val_acc: 0.7961\n",
            "Epoch 8/80\n",
            "411/411 [==============================] - 0s 489us/sample - loss: 0.9889 - acc: 0.7835 - val_loss: 0.7162 - val_acc: 0.8544\n",
            "Epoch 9/80\n",
            "411/411 [==============================] - 0s 490us/sample - loss: 0.7815 - acc: 0.8151 - val_loss: 0.5367 - val_acc: 0.8641\n",
            "Epoch 10/80\n",
            "411/411 [==============================] - 0s 493us/sample - loss: 0.5367 - acc: 0.8978 - val_loss: 0.3618 - val_acc: 0.9029\n",
            "Epoch 11/80\n",
            "411/411 [==============================] - 0s 476us/sample - loss: 0.4105 - acc: 0.9075 - val_loss: 0.2840 - val_acc: 0.9612\n",
            "Epoch 12/80\n",
            "411/411 [==============================] - 0s 485us/sample - loss: 0.3124 - acc: 0.9319 - val_loss: 0.1791 - val_acc: 0.9612\n",
            "Epoch 13/80\n",
            "411/411 [==============================] - 0s 491us/sample - loss: 0.2863 - acc: 0.9246 - val_loss: 0.1437 - val_acc: 0.9612\n",
            "Epoch 14/80\n",
            "411/411 [==============================] - 0s 516us/sample - loss: 0.2114 - acc: 0.9440 - val_loss: 0.1225 - val_acc: 0.9709\n",
            "Epoch 15/80\n",
            "411/411 [==============================] - 0s 488us/sample - loss: 0.1696 - acc: 0.9513 - val_loss: 0.1237 - val_acc: 0.9806\n",
            "Epoch 16/80\n",
            "411/411 [==============================] - 0s 480us/sample - loss: 0.1362 - acc: 0.9659 - val_loss: 0.0732 - val_acc: 1.0000\n",
            "Epoch 17/80\n",
            "411/411 [==============================] - 0s 482us/sample - loss: 0.1284 - acc: 0.9684 - val_loss: 0.0574 - val_acc: 0.9806\n",
            "Epoch 18/80\n",
            "411/411 [==============================] - 0s 508us/sample - loss: 0.1380 - acc: 0.9611 - val_loss: 0.0762 - val_acc: 0.9806\n",
            "Epoch 19/80\n",
            "411/411 [==============================] - 0s 488us/sample - loss: 0.0890 - acc: 0.9708 - val_loss: 0.0608 - val_acc: 0.9806\n",
            "Epoch 20/80\n",
            "411/411 [==============================] - 0s 482us/sample - loss: 0.0856 - acc: 0.9805 - val_loss: 0.0751 - val_acc: 0.9806\n",
            "Epoch 21/80\n",
            "411/411 [==============================] - 0s 469us/sample - loss: 0.0774 - acc: 0.9781 - val_loss: 0.0403 - val_acc: 0.9806\n",
            "Epoch 22/80\n",
            "411/411 [==============================] - 0s 480us/sample - loss: 0.0562 - acc: 0.9854 - val_loss: 0.0809 - val_acc: 0.9612\n",
            "Epoch 23/80\n",
            "411/411 [==============================] - 0s 499us/sample - loss: 0.0546 - acc: 0.9854 - val_loss: 0.0223 - val_acc: 1.0000\n",
            "Epoch 24/80\n",
            "411/411 [==============================] - 0s 514us/sample - loss: 0.0385 - acc: 0.9927 - val_loss: 0.0412 - val_acc: 0.9903\n",
            "Epoch 25/80\n",
            "411/411 [==============================] - 0s 493us/sample - loss: 0.0318 - acc: 0.9951 - val_loss: 0.0456 - val_acc: 0.9903\n",
            "Epoch 26/80\n",
            "411/411 [==============================] - 0s 499us/sample - loss: 0.0515 - acc: 0.9854 - val_loss: 0.0303 - val_acc: 0.9903\n",
            "Epoch 27/80\n",
            "411/411 [==============================] - 0s 480us/sample - loss: 0.0437 - acc: 0.9903 - val_loss: 0.0348 - val_acc: 0.9806\n",
            "Epoch 28/80\n",
            "411/411 [==============================] - 0s 483us/sample - loss: 0.0354 - acc: 0.9951 - val_loss: 0.0542 - val_acc: 0.9806\n",
            "Epoch 29/80\n",
            "411/411 [==============================] - 0s 507us/sample - loss: 0.0291 - acc: 0.9878 - val_loss: 0.0265 - val_acc: 0.9806\n",
            "Epoch 30/80\n",
            "411/411 [==============================] - 0s 472us/sample - loss: 0.0381 - acc: 0.9878 - val_loss: 0.0214 - val_acc: 0.9903\n",
            "Epoch 31/80\n",
            "411/411 [==============================] - 0s 499us/sample - loss: 0.0224 - acc: 0.9976 - val_loss: 0.0389 - val_acc: 0.9903\n",
            "Epoch 32/80\n",
            "411/411 [==============================] - 0s 473us/sample - loss: 0.0286 - acc: 0.9927 - val_loss: 0.0110 - val_acc: 1.0000\n",
            "Epoch 33/80\n",
            "411/411 [==============================] - 0s 483us/sample - loss: 0.0235 - acc: 0.9951 - val_loss: 0.0161 - val_acc: 0.9903\n",
            "Epoch 34/80\n",
            "411/411 [==============================] - 0s 504us/sample - loss: 0.0281 - acc: 0.9903 - val_loss: 0.0060 - val_acc: 1.0000\n",
            "Epoch 35/80\n",
            "411/411 [==============================] - 0s 482us/sample - loss: 0.0110 - acc: 1.0000 - val_loss: 0.0345 - val_acc: 0.9903\n",
            "Epoch 36/80\n",
            "411/411 [==============================] - 0s 480us/sample - loss: 0.0118 - acc: 0.9976 - val_loss: 0.0083 - val_acc: 1.0000\n",
            "Epoch 37/80\n",
            "411/411 [==============================] - 0s 487us/sample - loss: 0.0244 - acc: 0.9903 - val_loss: 0.0121 - val_acc: 0.9903\n",
            "Epoch 38/80\n",
            "411/411 [==============================] - 0s 520us/sample - loss: 0.0078 - acc: 0.9976 - val_loss: 0.0350 - val_acc: 0.9806\n",
            "Epoch 39/80\n",
            "411/411 [==============================] - 0s 490us/sample - loss: 0.0119 - acc: 0.9976 - val_loss: 0.0283 - val_acc: 0.9903\n",
            "Epoch 40/80\n",
            "411/411 [==============================] - 0s 481us/sample - loss: 0.0177 - acc: 0.9951 - val_loss: 0.0377 - val_acc: 0.9806\n",
            "Epoch 41/80\n",
            "411/411 [==============================] - 0s 482us/sample - loss: 0.0226 - acc: 0.9951 - val_loss: 0.0188 - val_acc: 0.9903\n",
            "Epoch 42/80\n",
            "411/411 [==============================] - 0s 498us/sample - loss: 0.0090 - acc: 0.9976 - val_loss: 0.0369 - val_acc: 0.9903\n",
            "Epoch 43/80\n",
            "411/411 [==============================] - 0s 516us/sample - loss: 0.0058 - acc: 1.0000 - val_loss: 0.0635 - val_acc: 0.9806\n",
            "Epoch 44/80\n",
            "411/411 [==============================] - 0s 488us/sample - loss: 0.0072 - acc: 1.0000 - val_loss: 0.0219 - val_acc: 0.9903\n",
            "Epoch 45/80\n",
            "411/411 [==============================] - 0s 494us/sample - loss: 0.0097 - acc: 0.9976 - val_loss: 0.0274 - val_acc: 0.9903\n",
            "Epoch 46/80\n",
            "411/411 [==============================] - 0s 482us/sample - loss: 0.0201 - acc: 0.9927 - val_loss: 0.0659 - val_acc: 0.9806\n",
            "Epoch 47/80\n",
            "411/411 [==============================] - 0s 482us/sample - loss: 0.0083 - acc: 0.9976 - val_loss: 0.0106 - val_acc: 1.0000\n",
            "Epoch 48/80\n",
            "411/411 [==============================] - 0s 488us/sample - loss: 0.0060 - acc: 1.0000 - val_loss: 0.0046 - val_acc: 1.0000\n",
            "Epoch 49/80\n",
            "411/411 [==============================] - 0s 491us/sample - loss: 0.0038 - acc: 1.0000 - val_loss: 0.0400 - val_acc: 0.9903\n",
            "Epoch 50/80\n",
            "411/411 [==============================] - 0s 494us/sample - loss: 0.0110 - acc: 0.9951 - val_loss: 0.0130 - val_acc: 1.0000\n",
            "Epoch 51/80\n",
            "411/411 [==============================] - 0s 484us/sample - loss: 0.0166 - acc: 0.9976 - val_loss: 0.0109 - val_acc: 1.0000\n",
            "Epoch 52/80\n",
            "411/411 [==============================] - 0s 480us/sample - loss: 0.0037 - acc: 1.0000 - val_loss: 0.0074 - val_acc: 1.0000\n",
            "Epoch 53/80\n",
            "411/411 [==============================] - 0s 505us/sample - loss: 0.0073 - acc: 0.9976 - val_loss: 0.0376 - val_acc: 0.9903\n",
            "Epoch 54/80\n",
            "411/411 [==============================] - 0s 493us/sample - loss: 0.0074 - acc: 0.9976 - val_loss: 0.0508 - val_acc: 0.9903\n",
            "Epoch 55/80\n",
            "411/411 [==============================] - 0s 484us/sample - loss: 0.0103 - acc: 0.9976 - val_loss: 0.0037 - val_acc: 1.0000\n",
            "Epoch 56/80\n",
            "411/411 [==============================] - 0s 486us/sample - loss: 0.0027 - acc: 1.0000 - val_loss: 0.0077 - val_acc: 1.0000\n",
            "Epoch 57/80\n",
            "411/411 [==============================] - 0s 483us/sample - loss: 0.0063 - acc: 1.0000 - val_loss: 0.0130 - val_acc: 0.9903\n",
            "Epoch 58/80\n",
            "411/411 [==============================] - 0s 499us/sample - loss: 0.0029 - acc: 1.0000 - val_loss: 0.0124 - val_acc: 1.0000\n",
            "Epoch 59/80\n",
            "411/411 [==============================] - 0s 489us/sample - loss: 0.0050 - acc: 1.0000 - val_loss: 0.0019 - val_acc: 1.0000\n",
            "Epoch 60/80\n",
            "411/411 [==============================] - 0s 485us/sample - loss: 0.0044 - acc: 1.0000 - val_loss: 0.0152 - val_acc: 0.9903\n",
            "Epoch 61/80\n",
            "411/411 [==============================] - 0s 489us/sample - loss: 0.0018 - acc: 1.0000 - val_loss: 0.0172 - val_acc: 0.9903\n",
            "Epoch 62/80\n",
            "411/411 [==============================] - 0s 516us/sample - loss: 0.0032 - acc: 0.9976 - val_loss: 0.0012 - val_acc: 1.0000\n",
            "Epoch 63/80\n",
            "411/411 [==============================] - 0s 492us/sample - loss: 9.4493e-04 - acc: 1.0000 - val_loss: 0.0171 - val_acc: 0.9903\n",
            "Epoch 64/80\n",
            "411/411 [==============================] - 0s 476us/sample - loss: 0.0179 - acc: 0.9951 - val_loss: 0.0709 - val_acc: 0.9806\n",
            "Epoch 65/80\n",
            "411/411 [==============================] - 0s 502us/sample - loss: 0.0013 - acc: 1.0000 - val_loss: 0.0041 - val_acc: 1.0000\n",
            "Epoch 66/80\n",
            "411/411 [==============================] - 0s 503us/sample - loss: 7.2640e-04 - acc: 1.0000 - val_loss: 0.0219 - val_acc: 0.9903\n",
            "Epoch 67/80\n",
            "411/411 [==============================] - 0s 521us/sample - loss: 0.0010 - acc: 1.0000 - val_loss: 0.0071 - val_acc: 1.0000\n",
            "Epoch 68/80\n",
            "411/411 [==============================] - 0s 502us/sample - loss: 0.0043 - acc: 0.9976 - val_loss: 0.0758 - val_acc: 0.9806\n",
            "Epoch 69/80\n",
            "411/411 [==============================] - 0s 490us/sample - loss: 8.2308e-04 - acc: 1.0000 - val_loss: 0.0087 - val_acc: 0.9903\n",
            "Epoch 70/80\n",
            "411/411 [==============================] - 0s 482us/sample - loss: 0.0065 - acc: 0.9976 - val_loss: 0.0815 - val_acc: 0.9806\n",
            "Epoch 71/80\n",
            "411/411 [==============================] - 0s 499us/sample - loss: 0.0016 - acc: 1.0000 - val_loss: 0.0080 - val_acc: 1.0000\n",
            "Epoch 72/80\n",
            "411/411 [==============================] - 0s 506us/sample - loss: 0.0059 - acc: 0.9976 - val_loss: 0.0278 - val_acc: 0.9903\n",
            "Epoch 73/80\n",
            "411/411 [==============================] - 0s 493us/sample - loss: 0.0011 - acc: 1.0000 - val_loss: 0.0480 - val_acc: 0.9806\n",
            "Epoch 74/80\n",
            "411/411 [==============================] - 0s 479us/sample - loss: 0.0012 - acc: 1.0000 - val_loss: 0.0085 - val_acc: 1.0000\n",
            "Epoch 75/80\n",
            "411/411 [==============================] - 0s 474us/sample - loss: 5.7844e-04 - acc: 1.0000 - val_loss: 0.0087 - val_acc: 1.0000\n",
            "Epoch 76/80\n",
            "411/411 [==============================] - 0s 527us/sample - loss: 8.2666e-04 - acc: 1.0000 - val_loss: 0.0128 - val_acc: 0.9903\n",
            "Epoch 77/80\n",
            "411/411 [==============================] - 0s 483us/sample - loss: 0.0034 - acc: 1.0000 - val_loss: 0.0057 - val_acc: 1.0000\n",
            "Epoch 78/80\n",
            "411/411 [==============================] - 0s 502us/sample - loss: 2.9045e-04 - acc: 1.0000 - val_loss: 0.0622 - val_acc: 0.9806\n",
            "Epoch 79/80\n",
            "411/411 [==============================] - 0s 485us/sample - loss: 8.2977e-04 - acc: 1.0000 - val_loss: 0.0064 - val_acc: 1.0000\n",
            "Epoch 80/80\n",
            "411/411 [==============================] - 0s 489us/sample - loss: 0.0018 - acc: 1.0000 - val_loss: 0.0185 - val_acc: 0.9903\n"
          ]
        }
      ]
    },
    {
      "cell_type": "code",
      "source": [
        "plt.plot(history_conv.history['loss'])\n",
        "plt.plot(history_conv.history['val_loss'])\n",
        "plt.title('model loss')\n",
        "plt.ylabel('loss')\n",
        "plt.xlabel('epoch')\n",
        "plt.legend(['train loss', 'val loss'], loc='upper left')\n",
        "plt.show()"
      ],
      "metadata": {
        "id": "RSYL4J7oQvj2",
        "colab": {
          "base_uri": "https://localhost:8080/",
          "height": 295
        },
        "outputId": "b538f066-cf25-4616-ab54-3035ce8345d0"
      },
      "execution_count": 25,
      "outputs": [
        {
          "output_type": "display_data",
          "data": {
            "text/plain": [
              "<Figure size 432x288 with 1 Axes>"
            ],
            "image/png": "[encoded data removed]"
          },
          "metadata": {
            "needs_background": "light"
          }
        }
      ]
    },
    {
      "cell_type": "code",
      "source": [
        "plt.plot(history_conv.history['acc'])\n",
        "plt.plot(history_conv.history['val_acc'])\n",
        "plt.title('model accuracy')\n",
        "plt.ylabel('accuracy (%)')\n",
        "plt.xlabel('epoch')\n",
        "plt.legend(['train accuracy', 'val accuracy'], loc='upper left')\n",
        "plt.show()"
      ],
      "metadata": {
        "id": "72dcnpPxQzkJ",
        "colab": {
          "base_uri": "https://localhost:8080/",
          "height": 295
        },
        "outputId": "1af24d40-e573-4752-ff68-b78d4c231847"
      },
      "execution_count": 26,
      "outputs": [
        {
          "output_type": "display_data",
          "data": {
            "text/plain": [
              "<Figure size 432x288 with 1 Axes>"
            ],
            "image/png": "[encoded data removed]"
          },
          "metadata": {
            "needs_background": "light"
          }
        }
      ]
    },
    {
      "cell_type": "markdown",
      "source": [
        "## Test Model"
      ],
      "metadata": {
        "id": "dQfdvRZDQ4KQ"
      }
    },
    {
      "cell_type": "markdown",
      "source": [
        "Predicted Values Slider"
      ],
      "metadata": {
        "id": "lqrZ0epqdHh6"
      }
    },
    {
      "cell_type": "code",
      "source": [
        "# Display images in the training data set. \n",
        "\n",
        "def displayImage(index):\n",
        "  img = X_dataset[index]\n",
        "  \n",
        "  img_aug = np.expand_dims(img, axis=0)\n",
        "  y_predict = conv_model.predict(img_aug)[0]\n",
        "  \n",
        "  img_squeeze = np.squeeze(img, axis=-1)\n",
        "  plt.imshow(img_squeeze)  \n",
        "  caption = (\"                  A  |  B  |  C  |  D  |  E  |  F  |  G  |  H  |  I  |  J  |  K  |  L  |  M  |  N  |  O  |  P  |  Q  |  R  |  S  |  T  |  U  |  V  |  W  |  X  |  Y  |  Z  |  0  |  1  |  2  |  3  |  4  |  5  |  6  |  7  |  8  |  9 \\n\"+\n",
        "             \"Predicted: {:.2} | {:.2} | {:.2} | {:.2} | {:.2} | {:.2} | {:.2} | {:.2} | {:.2} | {:.2} | {:.2} | {:.2} | {:.2} | {:.2} | {:.2} | {:.2} | {:.2} | {:.2} | {:.2} | {:.2} | {:.2} | {:.2} | {:.2} | {:.2} | {:.2} | {:.2} | {:.2} | {:.2} | {:.2} | {:.2} | {:.2} | {:.2} | {:.2} | {:.2} | {:.2} | {:.2}\\n\".\n",
        "             format(y_predict[0],  y_predict[1],  y_predict[2],  y_predict[3],  y_predict[4],  y_predict[5],  y_predict[6],\n",
        "                     y_predict[7],  y_predict[8],  y_predict[9],  y_predict[10],  y_predict[11],  y_predict[12],  y_predict[13],\n",
        "                     y_predict[14],  y_predict[15],  y_predict[16],  y_predict[17],  y_predict[18],  y_predict[19],  y_predict[20],\n",
        "                     y_predict[21],  y_predict[22],  y_predict[23],  y_predict[24],  y_predict[25],  y_predict[26],  y_predict[27],\n",
        "                     y_predict[28],  y_predict[29],  y_predict[30],  y_predict[31],  y_predict[32],  y_predict[33],  y_predict[34],  y_predict[35]))\n",
        "  plt.text(0.5, 0.5, caption, \n",
        "           color='orange', fontsize = 16,\n",
        "           horizontalalignment='left', verticalalignment='bottom')\n",
        "\n",
        "\n",
        "interact(displayImage, \n",
        "        index=ipywidgets.IntSlider(min=0, max=X_dataset_orig.shape[0],\n",
        "                                   step=1, value=10))\n",
        "#displayImage(3)"
      ],
      "metadata": {
        "id": "wXvtqHMmbH_d",
        "colab": {
          "base_uri": "https://localhost:8080/",
          "height": 238,
          "referenced_widgets": [
            "9e4ad1ebbf1a4cf8b3a17c6f57630671",
            "27c5d924cc924129be098ebde6569586",
            "0560a98cad654fd6b76535e06ad318dc",
            "e843715e794d400d9b2f60e657265324",
            "712509cf56ff4b3cbfebe36afbd4bdb8",
            "b781629ea2214c9dad8204dde34d675b",
            "93034eb9cebc478b8d72a01a5ab5aa86"
          ]
        },
        "outputId": "cb685805-aa7f-4c4a-870d-a33c255f13f1"
      },
      "execution_count": 31,
      "outputs": [
        {
          "output_type": "display_data",
          "data": {
            "text/plain": [
              "interactive(children=(IntSlider(value=10, description='index', max=514), Output()), _dom_classes=('widget-inte…"
            ],
            "application/vnd.jupyter.widget-view+json": {
              "version_major": 2,
              "version_minor": 0,
              "model_id": "9e4ad1ebbf1a4cf8b3a17c6f57630671"
            }
          },
          "metadata": {}
        },
        {
          "output_type": "execute_result",
          "data": {
            "text/plain": [
              "<function __main__.displayImage>"
            ]
          },
          "metadata": {},
          "execution_count": 31
        }
      ]
    },
    {
      "cell_type": "code",
      "source": [
        "# Save the entire model as a SavedModel.\n",
        "!mkdir -p saved_model\n",
        "conv_model.save('saved_model/my_model3')"
      ],
      "metadata": {
        "id": "zaCHWAEWpCms"
      },
      "execution_count": null,
      "outputs": []
    },
    {
      "cell_type": "markdown",
      "source": [
        "## Confusion Matrix"
      ],
      "metadata": {
        "id": "xcr6RIESJVeA"
      }
    },
    {
      "cell_type": "code",
      "source": [
        "def num_to_char(num):\n",
        "    if num <= 25:\n",
        "        return chr(ord('A')+num)\n",
        "    else:\n",
        "        return chr(ord('0')+num-26)\n",
        "\n",
        "vecs = []\n",
        "for i in range(5):\n",
        "  vecs += num_to_char(i)\n",
        "\n",
        "print(vecs)"
      ],
      "metadata": {
        "colab": {
          "base_uri": "https://localhost:8080/"
        },
        "id": "5dG_1rfU2dKW",
        "outputId": "987fb15f-9d7c-45aa-d382-efe0bb648c18"
      },
      "execution_count": 32,
      "outputs": [
        {
          "output_type": "stream",
          "name": "stdout",
          "text": [
            "['A', 'B', 'C', 'D', 'E']\n"
          ]
        }
      ]
    },
    {
      "cell_type": "code",
      "source": [
        "#On original data\n",
        "y_pred = conv_model.predict(X_dataset)\n",
        "y_predict = np.argmax(y_pred, axis=1)\n",
        "y_test = np.argmax(Y_dataset, axis=1)\n",
        "\n",
        "from sklearn.metrics import confusion_matrix\n",
        "import seaborn as sn\n",
        "import pandas as pd\n",
        "\n",
        "vecLabels = []\n",
        "for i in range(36):\n",
        "  vecLabels += num_to_char(i)\n",
        "\n",
        "matrix = confusion_matrix(y_test, y_predict)\n",
        "df_cm = pd.DataFrame(matrix, vecLabels, vecLabels)\n",
        "plt.figure(figsize=(20,20))\n",
        "sn.set(font_scale=1.4) # for label size\n",
        "sn.heatmap(df_cm, annot=True)\n",
        "\n",
        "plt.show()"
      ],
      "metadata": {
        "id": "m_oBNdx86T9j",
        "colab": {
          "base_uri": "https://localhost:8080/",
          "height": 1000
        },
        "outputId": "364f508a-71bd-4186-e62f-cf74a08ffef2"
      },
      "execution_count": 33,
      "outputs": [
        {
          "output_type": "display_data",
          "data": {
            "text/plain": [
              "<Figure size 1440x1440 with 2 Axes>"
            ],
            "image/png": "[encoded data removed]"
          },
          "metadata": {
            "needs_background": "light"
          }
        }
      ]
    }
  ]
}